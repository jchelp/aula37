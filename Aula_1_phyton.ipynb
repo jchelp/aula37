{
  "nbformat": 4,
  "nbformat_minor": 0,
  "metadata": {
    "colab": {
      "provenance": [],
      "authorship_tag": "ABX9TyP2LF65bNAkVOK57j9BUVZL",
      "include_colab_link": true
    },
    "kernelspec": {
      "name": "python3",
      "display_name": "Python 3"
    },
    "language_info": {
      "name": "python"
    }
  },
  "cells": [
    {
      "cell_type": "markdown",
      "metadata": {
        "id": "view-in-github",
        "colab_type": "text"
      },
      "source": [
        "<a href=\"https://colab.research.google.com/github/jchelp/aula37/blob/main/Aula_1_phyton.ipynb\" target=\"_parent\"><img src=\"https://colab.research.google.com/assets/colab-badge.svg\" alt=\"Open In Colab\"/></a>"
      ]
    },
    {
      "cell_type": "code",
      "execution_count": 1,
      "metadata": {
        "colab": {
          "base_uri": "https://localhost:8080/"
        },
        "id": "E48PwLJsWI1c",
        "outputId": "eff9901c-efc1-465b-a9d7-701cdda07842"
      },
      "outputs": [
        {
          "output_type": "stream",
          "name": "stdout",
          "text": [
            "Olá mundo \n"
          ]
        }
      ],
      "source": [
        "#Introdução\n",
        "print ('Olá mundo ')"
      ]
    },
    {
      "cell_type": "code",
      "source": [
        "#Variáveis, tipo de dados e operadores exemplo 1\n",
        "idade = 20\n",
        "nome = 'Ana'\n",
        "print (nome, \"tem\", idade, \"anos\")"
      ],
      "metadata": {
        "colab": {
          "base_uri": "https://localhost:8080/"
        },
        "id": "vKG_PW09WUTe",
        "outputId": "edd86104-f6aa-4623-9a69-d8f5a86dfb2d"
      },
      "execution_count": 2,
      "outputs": [
        {
          "output_type": "stream",
          "name": "stdout",
          "text": [
            "Ana tem 20 anos\n"
          ]
        }
      ]
    },
    {
      "cell_type": "code",
      "source": [
        "#Variáveis, tipo de dados e operadores exemplo 2\n",
        "vendas_jan = 120\n",
        "vendas_fev = 95\n",
        "total = vendas_jan + vendas_fev\n",
        "print (\"Total de vendas:\", total)"
      ],
      "metadata": {
        "colab": {
          "base_uri": "https://localhost:8080/"
        },
        "id": "qaGkO7-6WmMj",
        "outputId": "8c62c651-2749-4309-a459-72d36b72f203"
      },
      "execution_count": 10,
      "outputs": [
        {
          "output_type": "stream",
          "name": "stdout",
          "text": [
            "Total de vendas: 215\n"
          ]
        }
      ]
    },
    {
      "cell_type": "code",
      "source": [
        "#Lógica condicional exemplo 1\n",
        "nota = 4\n",
        "if nota >= 7:\n",
        "   print(\"Aprovado\")\n",
        "elif nota >=5:\n",
        "   print(\"Recuperação\")\n",
        "else:\n",
        "  print(\"Reprovado \")"
      ],
      "metadata": {
        "colab": {
          "base_uri": "https://localhost:8080/"
        },
        "id": "flg4Se29W4m2",
        "outputId": "a526f249-3469-4237-b2f9-9d52bb928d05"
      },
      "execution_count": 6,
      "outputs": [
        {
          "output_type": "stream",
          "name": "stdout",
          "text": [
            "Reprovado \n"
          ]
        }
      ]
    },
    {
      "cell_type": "code",
      "source": [
        "#Lógica condicional exemplo 2\n",
        "senha =\"1234\"\n",
        "entrada = input(\"Digite a senha: \")\n",
        "if entrada == senha:\n",
        "  print(\"Acesso liberado!\")\n",
        "else:\n",
        "  print(\"Senha incorreta\")"
      ],
      "metadata": {
        "colab": {
          "base_uri": "https://localhost:8080/"
        },
        "id": "3PtBq0ffXckJ",
        "outputId": "975567d2-984f-453a-a6dc-9266e3bbf3d1"
      },
      "execution_count": 8,
      "outputs": [
        {
          "output_type": "stream",
          "name": "stdout",
          "text": [
            "Digite a senha: 1234\n",
            "Acesso liberado!\n"
          ]
        }
      ]
    },
    {
      "cell_type": "code",
      "source": [
        "#Laços de repetição - For\n",
        "alunos = [\"Ana\", \"Bruno\", \"Carla\"]\n",
        "for aluno in alunos:\n",
        "  print(\"Presente:\", aluno)"
      ],
      "metadata": {
        "colab": {
          "base_uri": "https://localhost:8080/"
        },
        "id": "DhZ8AobvX6_f",
        "outputId": "339caf7b-56a3-4cd0-bd21-4383729182dc"
      },
      "execution_count": 9,
      "outputs": [
        {
          "output_type": "stream",
          "name": "stdout",
          "text": [
            "Presente: Ana\n",
            "Presente: Bruno\n",
            "Presente: Carla\n"
          ]
        }
      ]
    },
    {
      "cell_type": "code",
      "source": [
        "#Laços de repetição - While\n",
        "# Para repetir as mesmas intruções\n",
        "# E é assim que sistemas enviam e-mails em massa, processam relatórios ou analisam milhares de dados.\n",
        "contador = 1\n",
        "while contador <= 10:\n",
        "  print(\"Número:\", contador)\n",
        "  contador += 1\n"
      ],
      "metadata": {
        "colab": {
          "base_uri": "https://localhost:8080/"
        },
        "id": "rtXzZWq-ZH_1",
        "outputId": "4bf966cd-7ddb-4133-afdf-56cfe2d93ba7"
      },
      "execution_count": 14,
      "outputs": [
        {
          "output_type": "stream",
          "name": "stdout",
          "text": [
            "Número: 1\n",
            "Número: 2\n",
            "Número: 3\n",
            "Número: 4\n",
            "Número: 5\n",
            "Número: 6\n",
            "Número: 7\n",
            "Número: 8\n",
            "Número: 9\n",
            "Número: 10\n"
          ]
        }
      ]
    },
    {
      "cell_type": "code",
      "source": [
        "#Funções\n",
        "#Reaproveitar uma lógica várias vezes - função.\n",
        "#Função é como uma receita: você passa os ingredientes, segue os passos, e sempre chega ao mesmo resultado.\n",
        "def calcular_media(n1, n2, n3):\n",
        "  return (n1 + n2 + n3) / 3\n",
        "\n",
        "media = calcular_media(8, 5, 7)\n",
        "print(\"Média do aluno:\", media)"
      ],
      "metadata": {
        "colab": {
          "base_uri": "https://localhost:8080/"
        },
        "id": "l-2JPGKYaDdi",
        "outputId": "fa6cf0fc-7643-405e-8f94-2e445b3c01e0"
      },
      "execution_count": 27,
      "outputs": [
        {
          "output_type": "stream",
          "name": "stdout",
          "text": [
            "Média do aluno: 6.666666666666667\n"
          ]
        }
      ]
    },
    {
      "cell_type": "code",
      "source": [
        "#Integrando o que vimos\n",
        "def classificar_aluno(nome, notas):\n",
        "  media = sum(notas) / len(notas)\n",
        "  if media >=7:\n",
        "    status = 'Aprovado'\n",
        "  elif media >=5:\n",
        "    status =\"Recuperação\"\n",
        "  else:\n",
        "    status = \"Reprovado\"\n",
        "  return f\"{nome}: {status} (Média: {media:.1f})\"\n",
        "\n",
        "print(classificar_aluno(\"Ana\", [8, 7, 9]))\n",
        "print(classificar_aluno(\"Bruno\", [5, 5, 5]))\n",
        "print(classificar_aluno(\"Carla\", [2, 2, 2]))\n",
        "\n",
        ""
      ],
      "metadata": {
        "colab": {
          "base_uri": "https://localhost:8080/"
        },
        "id": "t_FBV3Cia7eQ",
        "outputId": "bf0c6188-5491-4818-ebdd-ff30d0896340"
      },
      "execution_count": 33,
      "outputs": [
        {
          "output_type": "stream",
          "name": "stdout",
          "text": [
            "Ana: Aprovado (Média: 8.0)\n",
            "Bruno: Recuperação (Média: 5.0)\n",
            "Carla: Reprovado (Média: 2.0)\n"
          ]
        }
      ]
    },
    {
      "cell_type": "code",
      "source": [
        "\n",
        ""
      ],
      "metadata": {
        "id": "cx3rd1Gpfsaj"
      },
      "execution_count": null,
      "outputs": []
    },
    {
      "cell_type": "code",
      "source": [
        "#Programinha básico\n",
        "def classificar_aluno(nome, notas):\n",
        "  media = sum(notas) / len(notas)\n",
        "  if media >=7:\n",
        "    status = 'Aprovado'\n",
        "  elif media >=5:\n",
        "    status =\"Aprovado\"\n",
        "  else:\n",
        "    status = \"Reprovado\"\n",
        "  return f\"{nome}: {status} (Média: {media:.1f})\"\n",
        "\n",
        "# --- parte interativa ---\n",
        "alunos = []\n",
        "while True:\n",
        "    nome = input(\"Digite o nome do aluno (ou 'sair' para encerrar): \")\n",
        "    if nome.lower() == 'sair':\n",
        "        break\n",
        "\n",
        "    notas =[] # Lista vazia\n",
        "    for i in range(3): #Supondo 3 notas\n",
        "        while True:\n",
        "            try:\n",
        "                nota = float(input(f\"Digite a nota {i+1} para {nome}: \"))\n",
        "                notas.append(nota)\n",
        "                break # Sai do loop de validação se a entrada for válida\n",
        "            except ValueError:\n",
        "                print(\"Entrada inválida. Por favor, digite um número para a nota.\")\n",
        "\n",
        "    alunos.append(classificar_aluno(nome, notas))\n",
        "\n",
        "print(\"\\n--- Resultados ---\")\n",
        "for resultado in alunos:\n",
        "    print(resultado)"
      ],
      "metadata": {
        "colab": {
          "base_uri": "https://localhost:8080/"
        },
        "id": "S7KR57O-dNGu",
        "outputId": "75914393-d836-4301-c0cb-0dbc2dbfad1a"
      },
      "execution_count": 37,
      "outputs": [
        {
          "output_type": "stream",
          "name": "stdout",
          "text": [
            "Digite o nome do aluno (ou 'sair' para encerrar): José Carlos \n",
            "Digite a nota 1 para José Carlos : 8\n",
            "Digite a nota 2 para José Carlos : 9\n",
            "Digite a nota 3 para José Carlos : 10\n",
            "Digite o nome do aluno (ou 'sair' para encerrar): Lucas Costa\n",
            "Digite a nota 1 para Lucas Costa: 8\n",
            "Digite a nota 2 para Lucas Costa: 7\n",
            "Digite a nota 3 para Lucas Costa: 5\n",
            "Digite o nome do aluno (ou 'sair' para encerrar): João da Silva\n",
            "Digite a nota 1 para João da Silva: 4\n",
            "Digite a nota 2 para João da Silva: 3\n",
            "Digite a nota 3 para João da Silva: 2\n",
            "Digite o nome do aluno (ou 'sair' para encerrar): sair\n",
            "\n",
            "--- Resultados ---\n",
            "José Carlos : Aprovado (Média: 9.0)\n",
            "Lucas Costa: Aprovado (Média: 6.7)\n",
            "João da Silva: Reprovado (Média: 3.0)\n"
          ]
        }
      ]
    }
  ]
}