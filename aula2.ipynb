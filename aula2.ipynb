{
  "nbformat": 4,
  "nbformat_minor": 0,
  "metadata": {
    "colab": {
      "provenance": [],
      "authorship_tag": "ABX9TyMEXmK09yZ/4wL8IdgqyxhB",
      "include_colab_link": true
    },
    "kernelspec": {
      "name": "python3",
      "display_name": "Python 3"
    },
    "language_info": {
      "name": "python"
    }
  },
  "cells": [
    {
      "cell_type": "markdown",
      "metadata": {
        "id": "view-in-github",
        "colab_type": "text"
      },
      "source": [
        "<a href=\"https://colab.research.google.com/github/jchelp/aula37/blob/main/aula2.ipynb\" target=\"_parent\"><img src=\"https://colab.research.google.com/assets/colab-badge.svg\" alt=\"Open In Colab\"/></a>"
      ]
    },
    {
      "cell_type": "code",
      "execution_count": null,
      "metadata": {
        "colab": {
          "base_uri": "https://localhost:8080/"
        },
        "id": "dPR2AODZ97Hh",
        "outputId": "480453f4-741e-4646-dabf-e17b4acf7060"
      },
      "outputs": [
        {
          "output_type": "stream",
          "name": "stdout",
          "text": [
            "['Ana', 'Bruno', 'Carla', 'Diego']\n",
            "Latitude: -23.55\n"
          ]
        }
      ],
      "source": [
        "# Lista mutável\n",
        "alunos = [\"Ana\", \"Bruno\", \"Carla\"]\n",
        "alunos.append(\"Diego\")\n",
        "print(alunos)\n",
        "\n",
        "#Tupla imutável\n",
        "coordenadas = (45.67, -23.55)\n",
        "print(f\"Latitude: {coordenadas[1]}\")"
      ]
    },
    {
      "cell_type": "code",
      "source": [
        "alunos = [\"Ana\", \"Bruno\", \"Carla\"]\n",
        "alunos.append(\"Daniel\")\n",
        "alunos.remove(\"Bruno\")\n",
        "print(alunos)"
      ],
      "metadata": {
        "colab": {
          "base_uri": "https://localhost:8080/"
        },
        "id": "p9t7PdxJ_Xle",
        "outputId": "0858ecbe-7143-4544-c9dd-783e87342123"
      },
      "execution_count": null,
      "outputs": [
        {
          "output_type": "stream",
          "name": "stdout",
          "text": [
            "['Ana', 'Carla', 'Daniel']\n"
          ]
        }
      ]
    },
    {
      "cell_type": "code",
      "source": [
        "notas = [7.5, 8.0, 9.2, 6.4]\n",
        "aprovados = [n for n in notas if n >= 7]\n",
        "print(aprovados)"
      ],
      "metadata": {
        "colab": {
          "base_uri": "https://localhost:8080/"
        },
        "id": "orv2tH2C_jeO",
        "outputId": "111e020b-6c60-42d7-fecf-3327e7ceb53f"
      },
      "execution_count": null,
      "outputs": [
        {
          "output_type": "stream",
          "name": "stdout",
          "text": [
            "[7.5, 8.0, 9.2]\n"
          ]
        }
      ]
    },
    {
      "cell_type": "code",
      "source": [
        "# Variáveis simples\n",
        "aluno = \"Ana\"\n",
        "nota1 = 8.5\n",
        "nota2 = 7.9\n",
        "\n",
        "#Listas para agrupar as notas\n",
        "notas = [nota1, nota2, 9.0]\n",
        "media = sum(notas) /len(notas)\n",
        "\n",
        "# Tupla para guardar dados fixo (ex: ID e CPF)\n",
        "dados_identificacao = (12345, \"111.222.333-44\")\n",
        "\n",
        "print(f\"Aluno: {aluno}\")\n",
        "print(f\"Média: {media}\")\n",
        "print(f\"Identifcação: {dados_identificacao}\")\n",
        "\n"
      ],
      "metadata": {
        "colab": {
          "base_uri": "https://localhost:8080/"
        },
        "id": "tCQ5j7ZdAFOL",
        "outputId": "f059d3d7-5802-4378-9b6d-2079eb863107"
      },
      "execution_count": null,
      "outputs": [
        {
          "output_type": "stream",
          "name": "stdout",
          "text": [
            "Aluno: Ana\n",
            "Média: 8.466666666666667\n",
            "Identifcação: (12345, '111.222.333-44')\n"
          ]
        }
      ]
    },
    {
      "cell_type": "code",
      "source": [
        "# Dicionário: chave-valor\n",
        "usuario = {\"nome\": \"Alice\", \"perfil\": \"admin\", \"logins\": \"12\"}\n",
        "print(usuario[\"perfil\"])\n",
        "\n"
      ],
      "metadata": {
        "colab": {
          "base_uri": "https://localhost:8080/"
        },
        "id": "wpUF91ksJC77",
        "outputId": "b0d3547c-ed15-4f26-e8a4-830a7c80abf2"
      },
      "execution_count": null,
      "outputs": [
        {
          "output_type": "stream",
          "name": "stdout",
          "text": [
            "admin\n"
          ]
        }
      ]
    },
    {
      "cell_type": "code",
      "source": [
        "# Conjuto: elimina duplicatas\n",
        "ips = {\"192.168.0.1\", \"192.168.0.2\", \"192.168.0.1\"}\n",
        "print(\"IPs únicos:\", ips)\n"
      ],
      "metadata": {
        "colab": {
          "base_uri": "https://localhost:8080/"
        },
        "id": "edP3vaLAKl66",
        "outputId": "3bb9f7eb-d19c-46ab-dfc0-cf7019090019"
      },
      "execution_count": null,
      "outputs": [
        {
          "output_type": "stream",
          "name": "stdout",
          "text": [
            "IPs únicos: {'192.168.0.1', '192.168.0.2'}\n"
          ]
        }
      ]
    },
    {
      "cell_type": "code",
      "source": [
        "usuario = {\n",
        "    \"nome\": \"Alice\",\n",
        "    \"perfil\": \"admin\",\n",
        "    \"logins\": \"12\"\n",
        " }\n",
        "\n",
        "print(usuario[\"perfil\"])\n",
        "usuario[\"logins\"] = int(usuario[\"logins\"]) + 1\n",
        "print(usuario[\"logins\"])"
      ],
      "metadata": {
        "colab": {
          "base_uri": "https://localhost:8080/"
        },
        "id": "LyyidDMRK-_A",
        "outputId": "1b181ec5-8031-4b5f-818f-09eaa406f3f7"
      },
      "execution_count": null,
      "outputs": [
        {
          "output_type": "stream",
          "name": "stdout",
          "text": [
            "admin\n",
            "13\n"
          ]
        }
      ]
    },
    {
      "cell_type": "code",
      "source": [
        "rede = {\n",
        "    \"servidor\": {\"ip\": \"10.0.0.2\", \"status\": \"ativo\"},\n",
        "    \"firewall\": {\"ip\": \"10.0.0.1\", \"status\": \"seguro\"}\n",
        "}\n",
        "print(rede[\"firewall\"][\"status\"])"
      ],
      "metadata": {
        "colab": {
          "base_uri": "https://localhost:8080/"
        },
        "id": "tNFHGNHFOoFj",
        "outputId": "174656a7-9162-4559-d599-064f841f1362"
      },
      "execution_count": null,
      "outputs": [
        {
          "output_type": "stream",
          "name": "stdout",
          "text": [
            "seguro\n"
          ]
        }
      ]
    },
    {
      "cell_type": "code",
      "source": [
        "ips = [\"192.168.0.1\", \"192.168.0.2\", \"192.168.0.1\"]\n",
        "ips_unicos = set(ips)\n",
        "print(ips_unicos)"
      ],
      "metadata": {
        "colab": {
          "base_uri": "https://localhost:8080/"
        },
        "id": "5BIxS7NgPVUC",
        "outputId": "824b5dca-2bc6-4875-f6fa-7fb20ff99ff9"
      },
      "execution_count": null,
      "outputs": [
        {
          "output_type": "stream",
          "name": "stdout",
          "text": [
            "{'192.168.0.1', '192.168.0.2'}\n"
          ]
        }
      ]
    },
    {
      "cell_type": "code",
      "source": [
        "a = {1, 2, 3}\n",
        "b = {3, 4, 5}\n",
        "\n",
        "print(a | b) # união - {1, 2, 3, 4, 5}\n",
        "print(a & b) # intersecção - {3}\n",
        "print(a - b) # diferença - {1, 2}\n",
        "print(a ^ b) # diferença simétrica - {1, 2, 4, 5}\n",
        "#"
      ],
      "metadata": {
        "colab": {
          "base_uri": "https://localhost:8080/"
        },
        "id": "ChNBWhdwPq3y",
        "outputId": "db378316-fbd8-4210-8746-bfddc38b6811"
      },
      "execution_count": null,
      "outputs": [
        {
          "output_type": "stream",
          "name": "stdout",
          "text": [
            "{1, 2, 3, 4, 5}\n",
            "{3}\n",
            "{1, 2}\n",
            "{1, 2, 4, 5}\n"
          ]
        }
      ]
    },
    {
      "cell_type": "code",
      "source": [
        "mensagem = \"Usuário ADMIN acessou o sistemna em 05/10/2025\"\n",
        "mensagem = mensagem.lower()\n",
        "palavras = mensagem.split()\n",
        "if \"admin\" in palavras:\n",
        "    print(\"Acesso de administrador detectado\")\n"
      ],
      "metadata": {
        "colab": {
          "base_uri": "https://localhost:8080/"
        },
        "id": "InitZ-csQMRZ",
        "outputId": "9ff6619d-4fe0-4972-b15e-a5f8d39ff7c7"
      },
      "execution_count": null,
      "outputs": [
        {
          "output_type": "stream",
          "name": "stdout",
          "text": [
            "Acesso de administrador detectado\n"
          ]
        }
      ]
    },
    {
      "cell_type": "code",
      "source": [
        "mensagem = \"Usuário ADMIN acessou o sistema\"\n",
        "mensagem = mensagem.strip().lower()\n",
        "print(mensagem)"
      ],
      "metadata": {
        "colab": {
          "base_uri": "https://localhost:8080/"
        },
        "id": "YkQnklYhTaRK",
        "outputId": "478b32c0-0861-4b0b-977c-1890ef51098e"
      },
      "execution_count": null,
      "outputs": [
        {
          "output_type": "stream",
          "name": "stdout",
          "text": [
            "usuário admin acessou o sistema\n"
          ]
        }
      ]
    },
    {
      "cell_type": "code",
      "source": [
        "alerta = \"Erro no módulo X\"\n",
        "print(alerta.replace(\"X\", \"login\"))\n",
        "\n",
        "usuario = \"Bruno\"\n",
        "print(f\"Bem vindo, {usuario.upper()}!\")\n"
      ],
      "metadata": {
        "colab": {
          "base_uri": "https://localhost:8080/"
        },
        "id": "9qWjDas1T635",
        "outputId": "4ab5b353-e561-4179-d929-acdf9f16cdbf"
      },
      "execution_count": null,
      "outputs": [
        {
          "output_type": "stream",
          "name": "stdout",
          "text": [
            "Erro no módulo login\n",
            "Bem vindo, BRUNO!\n"
          ]
        }
      ]
    },
    {
      "cell_type": "code",
      "source": [
        "texto = \"Falha detectada no servidor principal\"\n",
        "if \"falha\" in texto.lower():\n",
        "  print (\" Alerta: possivel incidente!\")\n"
      ],
      "metadata": {
        "colab": {
          "base_uri": "https://localhost:8080/"
        },
        "id": "NzA_0YRoUyr0",
        "outputId": "d53f413b-6017-48f2-dd2d-0245a9fb652a"
      },
      "execution_count": null,
      "outputs": [
        {
          "output_type": "stream",
          "name": "stdout",
          "text": [
            " Alerta: possivel incidente!\n"
          ]
        }
      ]
    },
    {
      "cell_type": "code",
      "source": [
        "import re\n",
        "\n",
        "log = \"login falhou para user: admin | IP: 192.168.0.45 | Data: 2025-10-05\"\n",
        "ip = re.findall(r\"\\d+\\.\\d+\\.\\d+\\.\\d+\", log)\n",
        "print(\"Endreço IP Identificado:\", ip)"
      ],
      "metadata": {
        "colab": {
          "base_uri": "https://localhost:8080/"
        },
        "id": "z4CXjtbIVoCu",
        "outputId": "5831cda9-4bee-4743-ac01-831eda1bcb60"
      },
      "execution_count": null,
      "outputs": [
        {
          "output_type": "stream",
          "name": "stdout",
          "text": [
            "Endreço IP Identificado: ['192.168.0.45']\n"
          ]
        }
      ]
    },
    {
      "cell_type": "code",
      "source": [
        "import re\n",
        "\n",
        "log = \"login falhou para user: admin | IP: 192.168.0.45 | Data: 2025-10-05\"\n",
        "data = re.findall(r\"\\d+\\-\\d+\\-\\d+\", log)\n",
        "print(\"Data Identificada:\", data)"
      ],
      "metadata": {
        "colab": {
          "base_uri": "https://localhost:8080/"
        },
        "id": "V1yhAGCDXiCi",
        "outputId": "74afe4c0-6d8f-42f8-8d00-25afca8fd97a"
      },
      "execution_count": null,
      "outputs": [
        {
          "output_type": "stream",
          "name": "stdout",
          "text": [
            "Data Identificada: ['2025-10-05']\n"
          ]
        }
      ]
    },
    {
      "cell_type": "code",
      "source": [
        "import re\n",
        "\n",
        "texto = \"contatos: admin.costa@empresa.com, suporte@empresa.com, jchelp@@xpo.com\"\n",
        "emails = re.findall(r\"\\b[\\w.-]+@[\\w.-]+\\.\\w+\\b\", texto)\n",
        "print(emails)"
      ],
      "metadata": {
        "colab": {
          "base_uri": "https://localhost:8080/"
        },
        "id": "eBn_ZVTFX0oA",
        "outputId": "4ab8521e-9c2d-4017-a956-d1ddd3ddb286"
      },
      "execution_count": null,
      "outputs": [
        {
          "output_type": "stream",
          "name": "stdout",
          "text": [
            "['admin.costa@empresa.com', 'suporte@empresa.com']\n"
          ]
        }
      ]
    },
    {
      "cell_type": "code",
      "source": [
        "senha = \"abc123!\"\n",
        "if re.match(r\"^(?=.*[A-Z])(?=.*\\d).{6,}$\", senha):\n",
        "    print(\"Senha forte.\")\n",
        "else:\n",
        "    print(\"Senha fraca.\")"
      ],
      "metadata": {
        "colab": {
          "base_uri": "https://localhost:8080/"
        },
        "id": "SRIH2cQQcuc5",
        "outputId": "1214af87-fbbe-41e7-b301-d3e15f53d5cb"
      },
      "execution_count": null,
      "outputs": [
        {
          "output_type": "stream",
          "name": "stdout",
          "text": [
            "Senha forte.\n"
          ]
        }
      ]
    }
  ]
}